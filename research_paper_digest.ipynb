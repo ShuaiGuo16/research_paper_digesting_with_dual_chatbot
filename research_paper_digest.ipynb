{
 "cells": [
  {
   "cell_type": "markdown",
   "id": "7a5c3d13",
   "metadata": {},
   "source": [
    "### Objective\n",
    "\n",
    "In this notebook, we leverage LangChain framework to develop a dual-chatbot system to perform research paper digesting tasks. Our idea is to let one chatbot to play the role of \"journalist\", while letting the other chatbot play the role of \"author\". By watching the conversation between those two chatbots, the user can understand better the main message conveyed by the paper. Additionally, it is also possible for users to ask their own questions to guide the direction of the conversation."
   ]
  },
  {
   "cell_type": "markdown",
   "id": "30e0cdaa",
   "metadata": {},
   "source": [
    "### 1. Import necessary libraries"
   ]
  },
  {
   "cell_type": "code",
   "execution_count": 1,
   "id": "6f38b8b5",
   "metadata": {},
   "outputs": [],
   "source": [
    "from embedding_engine import Embedder\n",
    "from chatbot import JournalistBot, AuthorBot\n",
    "\n",
    "import ipywidgets as widgets\n",
    "from IPython.display import display, FileLink, IFrame, HTML, clear_output\n",
    "from pdfdocument.document import PDFDocument\n",
    "from fpdf import FPDF\n",
    "import fitz\n",
    "import re"
   ]
  },
  {
   "cell_type": "markdown",
   "id": "979ae27c",
   "metadata": {},
   "source": [
    "### 2. Create paper embeddings"
   ]
  },
  {
   "cell_type": "code",
   "execution_count": 2,
   "id": "977eb223",
   "metadata": {},
   "outputs": [],
   "source": [
    "paper = 'Learning the solution operator of parametric partial differential equations with physics-informed DeepOnets'"
   ]
  },
  {
   "cell_type": "code",
   "execution_count": 3,
   "id": "fa009f27",
   "metadata": {},
   "outputs": [
    {
     "name": "stdout",
     "output_type": "stream",
     "text": [
      "Embeddings found! Loaded the computed ones\n",
      "Published: 2021-03-19\n",
      "Title: Learning the solution operator of parametric partial differential equations with physics-informed DeepOnets\n",
      "Authors: Sifan Wang, Hanwen Wang, Paris Perdikaris\n",
      "Summary: Deep operator networks (DeepONets) are receiving increased attention thanks\n",
      "to their demonstrated capability to approximate nonlinear operators between\n",
      "infinite-dimensional Banach spaces. However, despite their remarkable early\n",
      "promise, they typically require large training data-sets consisting of paired\n",
      "input-output observations which may be expensive to obtain, while their\n",
      "predictions may not be consistent with the underlying physical principles that\n",
      "generated the observed data. In this work, we propose a novel model class\n",
      "coined as physics-informed DeepONets, which introduces an effective\n",
      "regularization mechanism for biasing the outputs of DeepOnet models towards\n",
      "ensuring physical consistency. This is accomplished by leveraging automatic\n",
      "differentiation to impose the underlying physical laws via soft penalty\n",
      "constraints during model training. We demonstrate that this simple, yet\n",
      "remarkably effective extension can not only yield a significant improvement in\n",
      "the predictive accuracy of DeepOnets, but also greatly reduce the need for\n",
      "large training data-sets. To this end, a remarkable observation is that\n",
      "physics-informed DeepONets are capable of solving parametric partial\n",
      "differential equations (PDEs) without any paired input-output observations,\n",
      "except for a set of given initial or boundary conditions. We illustrate the\n",
      "effectiveness of the proposed framework through a series of comprehensive\n",
      "numerical studies across various types of PDEs. Strikingly, a trained physics\n",
      "informed DeepOnet model can predict the solution of $\\mathcal(O)(10^3)$\n",
      "time-dependent PDEs in a fraction of a second -- up to three orders of\n",
      "magnitude faster compared a conventional PDE solver. The data and code\n",
      "accompanying this manuscript are publicly available at\n",
      "\\url(https://github.com/PredictiveIntelligenceLab/Physics-informed-DeepONets).\n"
     ]
    }
   ],
   "source": [
    "embedding = Embedder()\n",
    "embedding.load_n_process_document(\"../Papers/\"+paper+\".pdf\")\n",
    "vectorstore = embedding.create_vectorstore(store_path=paper)\n",
    "paper_summary = embedding.create_summary(arxiv_id='2103.10974')\n",
    "# paper_summary = embedding.create_summary(llm_engine='Azure')\n",
    "print(paper_summary)"
   ]
  },
  {
   "cell_type": "markdown",
   "id": "a8437a07",
   "metadata": {},
   "source": [
    "### 3. Develop UI for two chatbots"
   ]
  },
  {
   "cell_type": "markdown",
   "id": "56dcc393",
   "metadata": {},
   "source": [
    "#### 3.1 Define two chatbots"
   ]
  },
  {
   "cell_type": "code",
   "execution_count": 4,
   "id": "3cf50400",
   "metadata": {},
   "outputs": [],
   "source": [
    "# Create two chatbots\n",
    "journalist = JournalistBot('OpenAI')\n",
    "author = AuthorBot('OpenAI', vectorstore)\n",
    "\n",
    "# Provide instruction\n",
    "journalist.instruct(topic='physics-informed machine learning', abstract=paper_summary)\n",
    "author.instruct('physics-informed machine learning')"
   ]
  },
  {
   "cell_type": "markdown",
   "id": "cbe85973",
   "metadata": {},
   "source": [
    "#### 3.2 Define PDF highlight"
   ]
  },
  {
   "cell_type": "code",
   "execution_count": 5,
   "id": "7f6d99cf",
   "metadata": {},
   "outputs": [],
   "source": [
    "def highlight_PDF(file_path, phrases, output_path):\n",
    "    doc = fitz.open(file_path)\n",
    "    \n",
    "    for page in doc:\n",
    "        for phrase in phrases:            \n",
    "            text_instances = page.search_for(phrase)\n",
    "\n",
    "            for inst in text_instances:\n",
    "                highlight = page.add_highlight_annot(inst)\n",
    "    \n",
    "    doc.save(output_path, garbage=4)"
   ]
  },
  {
   "cell_type": "markdown",
   "id": "a75ab129",
   "metadata": {},
   "source": [
    "#### 3.3 Define buttons and their click callback (UI)"
   ]
  },
  {
   "cell_type": "code",
   "execution_count": 6,
   "id": "d54474c2",
   "metadata": {},
   "outputs": [],
   "source": [
    "# Buttons \n",
    "bot_ask = widgets.Button(description=\"Bot ask\")\n",
    "user_ask = widgets.Button(description=\"User ask\")\n",
    "download = widgets.Button(description=\"Download paper summary\",\n",
    "                         layout=widgets.Layout(width='auto'))"
   ]
  },
  {
   "cell_type": "code",
   "execution_count": 7,
   "id": "551d80b7",
   "metadata": {},
   "outputs": [],
   "source": [
    "# Button click callback (bot ask button)\n",
    "def create_bot_ask_callback(title):\n",
    "    def bot_ask_clicked(b):\n",
    "\n",
    "        if chat_log.value == '':\n",
    "            # Starting conversation \n",
    "            bot_question = journalist.step(\"Start the conversation\")\n",
    "            line_breaker = \"\"\n",
    "\n",
    "        else:\n",
    "            # Ongoing conversation\n",
    "            bot_question = journalist.step(chat_log.value.split(\"<br><br>\")[-1])\n",
    "            line_breaker = \"<br><br>\"\n",
    "\n",
    "        chat_log.value += line_breaker + \"<b style='color:blue'>👨‍🏫 Journalist Bot:</b> \" + bot_question      \n",
    "\n",
    "        # Author bot answers\n",
    "        response, source = author.step(bot_question)  \n",
    "\n",
    "        # Highlight relevant text in PDF\n",
    "        phrases = [src.page_content for src in source]\n",
    "        paper_path = \"../Papers/\"+title+\".pdf\"\n",
    "        highlight_PDF(paper_path, phrases, 'highlighted.pdf')\n",
    "\n",
    "        page_numbers = [str(src.metadata['page']+1) for src in source]\n",
    "        unique_page_numbers = list(set(page_numbers))\n",
    "        chat_log.value += \"<br><b style='color:green'>👩‍🎓 Author Bot:</b> \" + response + \"<br>\"\n",
    "        chat_log.value += \"(For details, please check the highlighted text on page(s): \" + ', '.join(unique_page_numbers) + \")\"\n",
    "        \n",
    "    return bot_ask_clicked"
   ]
  },
  {
   "cell_type": "code",
   "execution_count": 8,
   "id": "96687040",
   "metadata": {},
   "outputs": [],
   "source": [
    "# Button click callback (user ask button)\n",
    "def create_user_ask_callback(title):\n",
    "    def user_ask_clicked(b):\n",
    "        \n",
    "        chat_log.value += \"<br><br><b style='color:purple'>🙋‍♂️You:</b> \" + user_input.value\n",
    "\n",
    "        # Author bot answers\n",
    "        response, source = author.step(user_input.value)\n",
    "        \n",
    "        # Highlight relevant text in PDF\n",
    "        phrases = [src.page_content for src in source]\n",
    "        paper_path = \"../Papers/\"+title+\".pdf\"\n",
    "        highlight_PDF(paper_path, phrases, 'highlighted.pdf')\n",
    "        \n",
    "        page_numbers = [str(src.metadata['page']+1) for src in source]\n",
    "        unique_page_numbers = list(set(page_numbers))\n",
    "        chat_log.value += \"<br><b style='color:green'>👩‍🎓 Author Bot:</b> \" + response + \"<br>\"\n",
    "        chat_log.value += \"(For details, please check the highlighted text on page(s): \" + ', '.join(unique_page_numbers) + \")\"\n",
    "\n",
    "        # Inform journalist bot about the asked questions \n",
    "        journalist.memory.chat_memory.add_user_message(user_input.value)\n",
    "\n",
    "        # Clear user input\n",
    "        user_input.value = \"\"\n",
    "        \n",
    "    return user_ask_clicked"
   ]
  },
  {
   "cell_type": "markdown",
   "id": "059f8d63",
   "metadata": {},
   "source": [
    "Generate PDF to download"
   ]
  },
  {
   "cell_type": "code",
   "execution_count": 9,
   "id": "56c10270",
   "metadata": {},
   "outputs": [],
   "source": [
    "# Download button callback\n",
    "def create_download_callback(title):\n",
    "    def download_clicked(b):\n",
    "        pdf = PDFDocument('paper_summary.pdf')\n",
    "        pdf.init_report()\n",
    "\n",
    "        # Remove HTML tags\n",
    "        chat_history = re.sub('<.*?>', '', chat_log.value)  \n",
    "        \n",
    "        # Remove emojis\n",
    "        chat_history = chat_history.replace('👨‍🏫', '')\n",
    "        chat_history = chat_history.replace('👩‍🎓', '')\n",
    "        chat_history = chat_history.replace('🙋‍♂️', '')\n",
    "        \n",
    "        # Add line breaks\n",
    "        chat_history = chat_history.replace('Journalist Bot:', '\\n\\n\\nJournalist: ')\n",
    "        chat_history = chat_history.replace('Author Bot:', '\\n\\nAuthor: ')\n",
    "        chat_history = chat_history.replace('You:', '\\n\\n\\nYou: ')\n",
    "\n",
    "        pdf.h2(\"Paper Summary: \" + title)\n",
    "        pdf.p(chat_history)\n",
    "        pdf.generate()\n",
    "\n",
    "        # Download PDF\n",
    "        print('PDF generated successfully in the local folder!')\n",
    "        \n",
    "    return download_clicked"
   ]
  },
  {
   "cell_type": "markdown",
   "id": "4c5ebbeb",
   "metadata": {},
   "source": [
    "#### 3.4 User interface"
   ]
  },
  {
   "cell_type": "code",
   "execution_count": 10,
   "id": "6bb9d69f",
   "metadata": {},
   "outputs": [],
   "source": [
    "paper = 'Learning the solution operator of parametric partial differential equations with physics-informed DeepOnets'"
   ]
  },
  {
   "cell_type": "code",
   "execution_count": 11,
   "id": "0831fae8",
   "metadata": {},
   "outputs": [
    {
     "data": {
      "application/vnd.jupyter.widget-view+json": {
       "model_id": "04f2335e76624b98a47956a8281bc473",
       "version_major": 2,
       "version_minor": 0
      },
      "text/plain": [
       "HTML(value='', placeholder='')"
      ]
     },
     "metadata": {},
     "output_type": "display_data"
    },
    {
     "data": {
      "application/vnd.jupyter.widget-view+json": {
       "model_id": "823f5064d5af4383929d249f064ddec8",
       "version_major": 2,
       "version_minor": 0
      },
      "text/plain": [
       "VBox(children=(HBox(children=(Button(description='Bot ask', style=ButtonStyle()),)), HBox(children=(Button(des…"
      ]
     },
     "metadata": {},
     "output_type": "display_data"
    },
    {
     "name": "stdout",
     "output_type": "stream",
     "text": [
      "PDF generated successfully in the local folder!\n"
     ]
    }
   ],
   "source": [
    "# Chat log text area\n",
    "chat_log = widgets.HTML(\n",
    "    value='',\n",
    "    placeholder='',\n",
    "    description='',\n",
    ")\n",
    "\n",
    "# User input field\n",
    "user_input = widgets.Text(\n",
    "    value='',\n",
    "    placeholder='Question',\n",
    "    description='',\n",
    "    disabled=False,\n",
    "    layout=widgets.Layout(width=\"60%\")\n",
    ")\n",
    "\n",
    "\n",
    "# Attach callbacks\n",
    "bot_ask.on_click(create_bot_ask_callback(paper))\n",
    "user_ask.on_click(create_user_ask_callback(paper))\n",
    "download.on_click(create_download_callback(paper))\n",
    "\n",
    "# Use HBox and VBox for arranging the widgets\n",
    "first_row = widgets.HBox([bot_ask])\n",
    "second_row = widgets.HBox([user_ask, user_input])\n",
    "third_row = widgets.HBox([download])\n",
    "\n",
    "# Display the UI\n",
    "display(chat_log, widgets.VBox([first_row, second_row, third_row]))"
   ]
  },
  {
   "cell_type": "code",
   "execution_count": 12,
   "id": "3c4aca01",
   "metadata": {},
   "outputs": [
    {
     "data": {
      "text/html": [
       "\n",
       "        <iframe\n",
       "            width=\"1000\"\n",
       "            height=\"600\"\n",
       "            src=\"highlighted.pdf\"\n",
       "            frameborder=\"0\"\n",
       "            allowfullscreen\n",
       "            \n",
       "        ></iframe>\n",
       "        "
      ],
      "text/plain": [
       "<IPython.lib.display.IFrame at 0x25b664ca1c0>"
      ]
     },
     "metadata": {},
     "output_type": "display_data"
    }
   ],
   "source": [
    "display(IFrame('highlighted.pdf', width=1000, height=600))"
   ]
  },
  {
   "cell_type": "code",
   "execution_count": null,
   "id": "55b4c00c",
   "metadata": {},
   "outputs": [],
   "source": []
  }
 ],
 "metadata": {
  "kernelspec": {
   "display_name": "Python 3 (ipykernel)",
   "language": "python",
   "name": "python3"
  },
  "language_info": {
   "codemirror_mode": {
    "name": "ipython",
    "version": 3
   },
   "file_extension": ".py",
   "mimetype": "text/x-python",
   "name": "python",
   "nbconvert_exporter": "python",
   "pygments_lexer": "ipython3",
   "version": "3.8.12"
  }
 },
 "nbformat": 4,
 "nbformat_minor": 5
}
